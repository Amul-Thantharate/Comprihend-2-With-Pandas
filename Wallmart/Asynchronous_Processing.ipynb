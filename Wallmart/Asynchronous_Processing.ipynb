{
 "cells": [
  {
   "cell_type": "markdown",
   "metadata": {},
   "source": [
    "                                            ***  Asynchronous Processing - Scheduling an Analysis Job  ***\n",
    "I highly recommend that you run at least one Comprehend job from the point and click interface, especially, if you are new to AWS. This way you can create a data access role (aka data_access_role_arn), and then you can simply copy the role name from the job description.\n",
    "\n",
    "You will need to create your S3 bucket through the web interface or through BOTO3 API.\n",
    "\n",
    "Note that I use different folders s3://comprehend-api/input-data and s3://comprehend-api/results for input data and results output. This way, your results are not going to get confused for inputs if you were to analyze all files in the folder."
   ]
  },
  {
   "cell_type": "code",
   "execution_count": 8,
   "metadata": {},
   "outputs": [
    {
     "name": "stdout",
     "output_type": "stream",
     "text": [
      "Bucket name is Allready exist\n"
     ]
    }
   ],
   "source": [
    "from dotenv import load_dotenv\n",
    "import boto3\n",
    "import json \n",
    "import pandas as pd \n",
    "from botocore.exceptions import ClientError \n",
    "load_dotenv()\n",
    "import logging\n",
    "# print(load_dotenv())\n",
    "\n",
    "def create_bucket(bucket_name):\n",
    "    \"\"\"Create an S3 bucket in a specified region\n",
    "    If a region is not specified, the bucket is created in the S3 default\n",
    "    region (us-east-1).\n",
    "    :param bucket_name: Bucket to create\n",
    "    :param region: String region to create bucket in, e.g., 'us-west-2'\n",
    "    :return: True if bucket created, else False\n",
    "    \"\"\" \n",
    "    if bucket_name != None:\n",
    "        region = 'us-east-1'\n",
    "        s3_client = boto3.client('s3', region_name=region)\n",
    "        s3_client.create_bucket(Bucket=bucket_name)\n",
    "        return True\n",
    "    elif bucket_name == None:\n",
    "        print(\"Bucket name is empty\")\n",
    "        \n",
    "        return False\n",
    "bucket_name = \"comphrend-wallmart-bucket\"\n",
    "if bucket_name == \"comphrend-wallmart-bucket\":\n",
    "    print(\"Bucket name is Allready exist\")\n",
    "    pass\n",
    "else:\n",
    "    create_bucket(bucket_name)\n",
    "    print(\"Bucket created\")\n"
   ]
  },
  {
   "cell_type": "markdown",
   "metadata": {},
   "source": [
    "                                    *** Uploding the data to S3 *** "
   ]
  },
  {
   "cell_type": "code",
   "execution_count": 9,
   "metadata": {},
   "outputs": [
    {
     "name": "stdout",
     "output_type": "stream",
     "text": [
      "File Uploaded\n",
      "True\n"
     ]
    }
   ],
   "source": [
    "local_file_name = \"../Comprehend/wallmarts_tweets_1k.csv\"\n",
    "bucket_name = \"comphrend-wallmart-bucket\"\n",
    "aws_file_name = \"input-data/wallmarts_tweets_1k.csv\"\n",
    "\n",
    "s3_client = boto3.client('s3')\n",
    "def upload_file(local_file_name, bucket_name, aws_file_name):\n",
    "    try:\n",
    "        s3 = s3_client.upload_file(local_file_name, bucket_name, aws_file_name)\n",
    "        print(\"File Uploaded\")\n",
    "    except ClientError as e:\n",
    "        logging.error(e)\n",
    "        return False\n",
    "    return True\n",
    "print(upload_file(local_file_name, bucket_name, aws_file_name)) "
   ]
  },
  {
   "cell_type": "markdown",
   "metadata": {},
   "source": [
    "                                                *** Configure Sentiment Detection Job *** "
   ]
  },
  {
   "cell_type": "code",
   "execution_count": null,
   "metadata": {},
   "outputs": [],
   "source": []
  }
 ],
 "metadata": {
  "kernelspec": {
   "display_name": "Python 3",
   "language": "python",
   "name": "python3"
  },
  "language_info": {
   "codemirror_mode": {
    "name": "ipython",
    "version": 3
   },
   "file_extension": ".py",
   "mimetype": "text/x-python",
   "name": "python",
   "nbconvert_exporter": "python",
   "pygments_lexer": "ipython3",
   "version": "3.11.7"
  }
 },
 "nbformat": 4,
 "nbformat_minor": 2
}
